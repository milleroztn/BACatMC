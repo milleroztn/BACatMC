{
 "cells": [
  {
   "cell_type": "markdown",
   "id": "4fc79e44",
   "metadata": {},
   "source": [
    "# Introduction \n",
    "This script is the first part of a two-stage data-cleaning process that consolidates raw data from multiple Excel files into a single panel dataset. The data contains housing data, demographic data, and covid data for geographic sub-regions of New York City.\n",
    "\n",
    "This script reformats each of the variables in the raw data from its various formats into conventional region-year format.\n",
    "\n",
    "The outputs of this script are:\n",
    "- [stone.csv](https://github.com/milleroztn/BACatMC/blob/main/data/stone.csv), which matches each community district with the appropriate sub-borough and provides Geography IDs for each community district and sub-burough region.\n",
    "- [SB_data.csv](https://github.com/milleroztn/BACatMC/blob/main/data/SB_data.csv), which contains all variables that are organized by sub-borough region and year.\n",
    "- [CD_data.csv](https://github.com/milleroztn/BACatMC/blob/main/data/CD_data.csv), which contains all variables that are organized by community district region and year.\n",
    "- [gid_data.csv](https://github.com/milleroztn/BACatMC/blob/main/data/gid_data.csv), which contains all variables that are organized by Geography ID, which are either by sub-borough or by community district.\n",
    "\n",
    "\n",
    "## Import Modules"
   ]
  },
  {
   "cell_type": "code",
   "execution_count": 20,
   "id": "41849790",
   "metadata": {},
   "outputs": [],
   "source": [
    "import numpy as np\n",
    "import pandas as pd\n",
    "import matplotlib.pyplot as plt\n",
    "import seaborn as sns\n",
    "from pandas import Series, DataFrame\n",
    "from numpy import nan as NA"
   ]
  },
  {
   "cell_type": "markdown",
   "id": "fd6605a3",
   "metadata": {},
   "source": [
    "This script does not use all of these modules, but these are the modules I routinely import at the start of all of my data scripts.\n",
    "\n",
    "## \"Rosetta Stone\"\n",
    "I noticed that the sheet for the 'Crowding' variable had measurements for each sub-borough and for each community district, as well as the Geography ID associated with each region. Additionally, the actual values are the same for every community district that is associated with the same sub-borough (perhaps all measurements are at the sub-borough level, even if listed as community district). I use this information to a) match each region with the appropriate ID, and b) match each sub-borough with the corresponding community districts.\n"
   ]
  },
  {
   "cell_type": "code",
   "execution_count": 21,
   "id": "30add513",
   "metadata": {},
   "outputs": [],
   "source": [
    "raw = pd.read_excel('rawdata/NYC-housing-data.xlsx', sheet_name=8)\n",
    "\n",
    "stone = raw.loc[raw.GeoTypeName=='Neighborhood (Sub-borough/PUMA)', :]\n",
    "stone = stone.iloc[:,:8]\n",
    "stone = stone.merge(raw.iloc[:,[1,2,3,4,6,7]], on=[\n",
    "    'Number','Percent of Households'], how='left')\n",
    "stone.loc[:,'Sub-Borough Area'] = stone['Geography_x'].str.slice(start=16)\n",
    "stone.rename(columns={'Geography ID_x':'sb', 'Geography ID_y':'gid'}, inplace=True)\n",
    "stone.to_csv('data/stone.csv', index=False)"
   ]
  },
  {
   "cell_type": "markdown",
   "id": "aa727161",
   "metadata": {},
   "source": [
    "The sheet numbers and column locations are taken from observing the organization of the Excel spreadsheets. This script will only work on the unchanged/unsorted original raw data.\n",
    "\n",
    "## Variables Measured at Sub-borough Level"
   ]
  },
  {
   "cell_type": "markdown",
   "id": "66e38ad5",
   "metadata": {},
   "source": [
    "### Import and reshape first sub-borough sheet/variable"
   ]
  },
  {
   "cell_type": "code",
   "execution_count": 23,
   "id": "ecd86c1c",
   "metadata": {},
   "outputs": [],
   "source": [
    "raw = pd.read_excel('rawdata/NYC-housing-data.xlsx', sheet_name=4)\n",
    "sb_data = raw.melt(raw.columns[2], raw.columns[3:18], 'year', raw.short_name[0])"
   ]
  },
  {
   "cell_type": "markdown",
   "id": "380a5c20",
   "metadata": {},
   "source": [
    "Each sheet in the housing data and the demographic data files represents a single variable. Individual observations are identified by 'Sub-Borough Area' (third column), and each year of data is unpivoted into a new 'year variable'. The result is one column identifying sub-borough, one identifying year, and one for the actual variable values (the short name is used as the variable name).\n",
    "\n",
    "### Repeat process for every other Sub-borough sheet and join to existing data"
   ]
  },
  {
   "cell_type": "code",
   "execution_count": 24,
   "id": "3fe14c07",
   "metadata": {
    "tags": []
   },
   "outputs": [],
   "source": [
    "%%capture --no-display  \n",
    "# to hide merge warning\n",
    "\n",
    "sb = list(range(5,8))+list(range(9,13))\n",
    "for i in sb:\n",
    "    raw = pd.read_excel('rawdata/NYC-housing-data.xlsx', sheet_name=i)\n",
    "    sheet = raw.melt(raw.columns[2], raw.columns[3:18], 'year', raw.short_name[0]).dropna()\n",
    "    sb_data = sb_data.merge(sheet, how='outer')\n",
    "\n",
    "raw = pd.read_excel('rawdata/NYC-housing-data.xlsx', sheet_name=13)\n",
    "sheet = raw.iloc[:,7:11].melt(\n",
    "    raw.columns[9], raw.columns[10], 'year', raw.short_name[0]).dropna()\n",
    "sb_data = sb_data.merge(sheet, how='outer')"
   ]
  },
  {
   "cell_type": "markdown",
   "id": "2bc17e35",
   "metadata": {},
   "source": [
    "Variable '% public housing' has some observations by sub-borough and others by community district. Here I isolate the sub-borough ones to add to the growing sb_data dataframe."
   ]
  },
  {
   "cell_type": "code",
   "execution_count": 25,
   "id": "b5074b02",
   "metadata": {},
   "outputs": [],
   "source": [
    "for i in range(2):\n",
    "    raw = pd.read_excel('rawdata/NYC-demographic-other-data.xlsx', sheet_name=i)\n",
    "    sheet = raw.melt(raw.columns[1], raw.columns[2:16], 'year', raw.long_name[0]).dropna()\n",
    "    sb_data = sb_data.merge(sheet, how='outer')"
   ]
  },
  {
   "cell_type": "markdown",
   "id": "6a4eb37f",
   "metadata": {},
   "source": [
    "The first two demographic sheets don't have short names for some reason. I use the long name instead."
   ]
  },
  {
   "cell_type": "code",
   "execution_count": 26,
   "id": "e1633c11",
   "metadata": {},
   "outputs": [],
   "source": [
    "for i in range(7,11):\n",
    "    raw = pd.read_excel('rawdata/NYC-demographic-other-data.xlsx', sheet_name=i)\n",
    "    sheet = raw.melt(raw.columns[2], raw.columns[3:18], 'year', raw.short_name[0]).dropna()\n",
    "    sb_data = sb_data.merge(sheet, how='outer')   "
   ]
  },
  {
   "cell_type": "markdown",
   "id": "d5cd51c1",
   "metadata": {
    "tags": []
   },
   "source": [
    "### Add IDs from \"Rosetta Stone\""
   ]
  },
  {
   "cell_type": "code",
   "execution_count": 27,
   "id": "5ead1738",
   "metadata": {},
   "outputs": [
    {
     "data": {
      "text/plain": [
       "array(['Rego Park/Forest Hills', 'Ozone Park/Woodhaven',\n",
       "       'South Ozone Park/Howard Beach', 'Queens Village', 'Mid-Island',\n",
       "       'Morrisania/Belmont', 'East New York/Starrett City',\n",
       "       'North Crown Heights/Prospect Heights'], dtype=object)"
      ]
     },
     "execution_count": 27,
     "metadata": {},
     "output_type": "execute_result"
    }
   ],
   "source": [
    "sbids = stone.loc[:,['sb','Sub-Borough Area']].drop_duplicates()\n",
    "sb_data = sb_data.merge(sbids, how='left')\n",
    "\n",
    "sb_data.loc[sb_data.sb.isna(),'Sub-Borough Area'].unique()"
   ]
  },
  {
   "cell_type": "markdown",
   "id": "0c3795ac",
   "metadata": {},
   "source": [
    "Generate a list of sub-boroughs that are missing IDs."
   ]
  },
  {
   "cell_type": "code",
   "execution_count": 28,
   "id": "55a71141",
   "metadata": {},
   "outputs": [],
   "source": [
    "sb_data.loc[sb_data['Sub-Borough Area']=='Rego Park/Forest Hills', 'sb'] = 44\n",
    "sb_data.loc[sb_data['Sub-Borough Area']=='Ozone Park/Woodhaven', 'sb'] = 47\n",
    "sb_data.loc[sb_data['Sub-Borough Area']=='South Ozone Park/Howard Beach', 'sb'] = 48\n",
    "sb_data.loc[sb_data['Sub-Borough Area']=='Queens Village', 'sb'] = 51\n",
    "sb_data.loc[sb_data['Sub-Borough Area']=='Mid-Island', 'sb'] = 54\n",
    "sb_data.loc[sb_data['Sub-Borough Area']=='Morrisania/Belmont', 'sb'] = 2\n",
    "sb_data.loc[sb_data['Sub-Borough Area']=='East New York/Starrett City', 'sb'] = 15\n",
    "sb_data.loc[sb_data['Sub-Borough Area']=='North Crown Heights/Prospect Heights', 'sb'] = 18"
   ]
  },
  {
   "cell_type": "markdown",
   "id": "0293f3a3",
   "metadata": {},
   "source": [
    "Manual fix for all the missing IDs.\n",
    "\n",
    "### Export"
   ]
  },
  {
   "cell_type": "code",
   "execution_count": 29,
   "id": "d1f43b4c",
   "metadata": {},
   "outputs": [],
   "source": [
    "sb_data.to_csv('data/sb_data.csv', index=False)"
   ]
  },
  {
   "cell_type": "markdown",
   "id": "44027b13",
   "metadata": {},
   "source": [
    "## Variables Measured at Community District Level\n",
    "\n",
    "### Import and reshape first community district sheet/variable"
   ]
  },
  {
   "cell_type": "code",
   "execution_count": null,
   "id": "4015f267",
   "metadata": {},
   "outputs": [],
   "source": [
    "raw = pd.read_excel('rawdata/NYC-housing-data.xlsx', sheet_name=0)\n",
    "cd_data = raw.melt(raw.columns[2], raw.columns[3:22], 'year', raw.short_name[0]).dropna()"
   ]
  },
  {
   "cell_type": "markdown",
   "id": "f14e538d",
   "metadata": {},
   "source": [
    "### Repeat process for every other community district sheet and join to existing data"
   ]
  },
  {
   "cell_type": "code",
   "execution_count": null,
   "id": "cd6305fe",
   "metadata": {},
   "outputs": [],
   "source": [
    "for i in range(1,4):\n",
    "    raw = pd.read_excel('rawdata/NYC-housing-data.xlsx', sheet_name=i)\n",
    "    sheet = raw.melt(raw.columns[2], raw.columns[3:22], 'year', raw.short_name[0]).dropna()\n",
    "    cd_data = cd_data.merge(sheet, how='outer')\n",
    "\n",
    "raw = pd.read_excel('rawdata/NYC-housing-data.xlsx', sheet_name=13)\n",
    "sheet = raw.iloc[:,:4].melt(\n",
    "    raw.columns[2], raw.columns[3], 'year', raw.short_name[0]).dropna()\n",
    "cd_data = cd_data.merge(sheet, how='outer')"
   ]
  },
  {
   "cell_type": "markdown",
   "id": "54999e6e",
   "metadata": {},
   "source": [
    "Here I isolate the observations of '% public housing' organized by community district."
   ]
  },
  {
   "cell_type": "code",
   "execution_count": null,
   "id": "8485c2c7",
   "metadata": {},
   "outputs": [],
   "source": [
    "raw = pd.read_excel('rawdata/NYC-demographic-other-data.xlsx', sheet_name=2)\n",
    "sheet = raw.melt(raw.columns[1], raw.columns[2:16], 'year', raw.long_name[0]).dropna()\n",
    "cd_data = cd_data.merge(sheet, how='outer')"
   ]
  },
  {
   "cell_type": "markdown",
   "id": "9b3114bf",
   "metadata": {},
   "source": [
    "Again the first demographic variable doesn't have short name; long name used instead.\n",
    "(Note: BK 08 - Crown Heights/Prospect Heights was in 'serious crime' twice. I removed the duplicate row out of the Excel file before starting this process.)"
   ]
  },
  {
   "cell_type": "code",
   "execution_count": null,
   "id": "8debf744",
   "metadata": {},
   "outputs": [],
   "source": [
    "for i in range(3,7):\n",
    "    raw = pd.read_excel('rawdata/NYC-demographic-other-data.xlsx', sheet_name=i)\n",
    "    sheet = raw.melt(raw.columns[2], raw.columns[3:9], 'year', raw.short_name[0]).dropna()\n",
    "    cd_data = cd_data.merge(sheet, how='outer')"
   ]
  },
  {
   "cell_type": "markdown",
   "id": "e8a625f3",
   "metadata": {},
   "source": []
  },
  {
   "cell_type": "code",
   "execution_count": null,
   "id": "f5f40bd9",
   "metadata": {},
   "outputs": [],
   "source": []
  },
  {
   "cell_type": "code",
   "execution_count": null,
   "id": "b03b728a",
   "metadata": {},
   "outputs": [],
   "source": []
  },
  {
   "cell_type": "code",
   "execution_count": null,
   "id": "47714473",
   "metadata": {},
   "outputs": [],
   "source": []
  },
  {
   "cell_type": "raw",
   "id": "900d5730",
   "metadata": {},
   "source": [
    "\n",
    "\n",
    "## repeat one-time (no year) data for all years\n",
    "cd_data['prox_subway_pct'] = cd_data.groupby('Community District')['prox_subway_pct'].transform(\n",
    "    lambda g: g.fillna(g.mean()))\n",
    "\n",
    "cd_data['prox_park_pct'] = cd_data.groupby('Community District')['prox_park_pct'].transform(\n",
    "    lambda g: g.fillna(g.mean()))\n",
    "\n",
    "### Add IDs\n",
    "# borough is IDed by two letter; change them to the appropriate gid numbers\n",
    "cd_data[['bid','District Name']] = cd_data['Community District'].str.split(' - ', expand=True)\n",
    "cd_data[['br','id']] = cd_data['bid'].str.split(' ', expand=True)\n",
    "cdidkey = pd.DataFrame({\n",
    "    'br': [\"BX\", \"BK\", \"QN\", \"SI\", \"MN\"],\n",
    "    'b': [2,3,4,5,1]\n",
    "    })\n",
    "cd_data = cd_data.merge(cdidkey, how='outer')\n",
    "cd_data['gid'] = cd_data['b'].astype(str) + cd_data['id']\n",
    "cd_data['gid'] = cd_data.gid.astype(int)\n",
    "cd_data.drop(columns=['Community District', 'bid', 'b', 'id'], inplace=True)\n",
    "\n",
    "# match each Community District gid with the corresponding Sub-borough ID\n",
    "cd_data = cd_data.merge(stone.loc[:,['sb','gid']], how='left')\n",
    "\n",
    "## export\n",
    "cd_data.to_csv('data/cd_data.csv', index=False)\n",
    "\n",
    "### GID variables- already wide; sheets have different numbers of variables\n",
    "\n",
    "## begin with crowding, same as from Rosetta stone\n",
    "raw = pd.read_excel('rawdata/NYC-housing-data.xlsx', sheet_name=8)\n",
    "gid_data = raw.loc[raw.GeoTypeName == 'Neighborhood (Sub-borough/PUMA)'].iloc[:,[4,6,7]]\n",
    "gid_data.rename(columns = {'Number':'crowding_number', 'Percent of Households':'crowding_percent'}, inplace=True)\n",
    "\n",
    "#single variable, remove city- and borough-level observations\n",
    "raw = pd.read_excel('rawdata/NYC-demographic-other-data.xlsx', sheet_name=13)\n",
    "sheet = raw.iloc[6:,[4,6]]\n",
    "sheet.columns = pd.concat([\n",
    "    Series(sheet.columns[0]), sheet.columns[[1]].to_series().apply(\n",
    "        lambda col : raw['Indicator Name'][0]+'_'+col)], ignore_index=True)\n",
    "gid_data = gid_data.merge(sheet, how='outer')\n",
    "\n",
    "#single variable, no removals\n",
    "for i in [12,14]:\n",
    "    raw = pd.read_excel('rawdata/NYC-demographic-other-data.xlsx', sheet_name=i)\n",
    "    sheet = raw.iloc[:,[4,6]]\n",
    "    sheet.columns = pd.concat([\n",
    "        Series(sheet.columns[0]), sheet.columns[[1]].to_series().apply(\n",
    "            lambda col : raw['Indicator Name'][0]+'_'+col)], ignore_index=True)\n",
    "    gid_data = gid_data.merge(sheet, how='outer')\n",
    "\n",
    "#2 vars\n",
    "for i in [11,15]:\n",
    "    raw = pd.read_excel('rawdata/NYC-demographic-other-data.xlsx', sheet_name=i)\n",
    "    sheet = raw.loc[raw.GeoTypeName == 'Neighborhood (Sub-borough/PUMA)'].iloc[:,[4,6,7]]\n",
    "    sheet.columns = pd.concat([\n",
    "        Series(sheet.columns[0]), sheet.columns[[1,2]].to_series().apply(\n",
    "            lambda col : raw['Indicator Name'][0]+'_'+col)], ignore_index=True)\n",
    "    gid_data = gid_data.merge(sheet, how='outer')\n",
    "    \n",
    "for i in [16,20,21,22]:\n",
    "    raw = pd.read_excel('rawdata/NYC-demographic-other-data.xlsx', sheet_name=i)\n",
    "    sheet = raw.iloc[:,[4,6,7]]\n",
    "    sheet.columns = pd.concat([\n",
    "        Series(sheet.columns[0]), sheet.columns[[1,2]].to_series().apply(\n",
    "            lambda col : raw['Indicator Name'][0]+'_'+col)], ignore_index=True)\n",
    "    gid_data = gid_data.merge(sheet, how='outer')\n",
    "\n",
    "#3 vars\n",
    "raw = pd.read_excel('rawdata/NYC-demographic-other-data.xlsx', sheet_name=23)\n",
    "sheet = raw.iloc[:,[4,6,7,8]]\n",
    "sheet.columns = pd.concat([\n",
    "    Series(sheet.columns[0]), sheet.columns[[1,2,3]].to_series().apply(\n",
    "        lambda col : raw['Indicator Name'][0]+'_'+col)], ignore_index=True)\n",
    "gid_data = gid_data.merge(sheet, how='outer')\n",
    "\n",
    "#4 vars, remove city- and borough-level observations\n",
    "raw = pd.read_excel('rawdata/NYC-demographic-other-data.xlsx', sheet_name=18)\n",
    "sheet = raw.iloc[6:,[4,6,7,8,9]]\n",
    "sheet.columns = pd.concat([\n",
    "    Series(sheet.columns[0]), sheet.columns[[1,2,3,4]].to_series().apply(\n",
    "        lambda col : raw['Indicator Name'][0]+'_'+col)], ignore_index=True)\n",
    "gid_data = gid_data.merge(sheet, how='outer')\n",
    "\n",
    "#6 vars\n",
    "for i in [17,19]:\n",
    "    raw = pd.read_excel('rawdata/NYC-demographic-other-data.xlsx', sheet_name=i)\n",
    "    sheet = raw.iloc[:,[4,6,7,8,9,10,11]]\n",
    "    sheet.columns = pd.concat([\n",
    "        Series(sheet.columns[0]), sheet.columns[[1,2,3,4,5,6]].to_series().apply(\n",
    "            lambda col : raw['Indicator Name'][0]+'_'+col)], ignore_index=True)\n",
    "    gid_data = gid_data.merge(sheet, how='outer')\n",
    "\n",
    "#rename gid\n",
    "gid_data.rename(columns={'Geography ID':'gid'}, inplace=True)\n",
    "\n",
    "## export\n",
    "gid_data.to_csv('data/gid_data.csv', index=False)![variables_summary.JPG](attachment:variables_summary.JPG)"
   ]
  }
 ],
 "metadata": {
  "kernelspec": {
   "display_name": "Python 3 (Spyder)",
   "language": "python3",
   "name": "python3"
  },
  "language_info": {
   "codemirror_mode": {
    "name": "ipython",
    "version": 3
   },
   "file_extension": ".py",
   "mimetype": "text/x-python",
   "name": "python",
   "nbconvert_exporter": "python",
   "pygments_lexer": "ipython3",
   "version": "3.10.6"
  }
 },
 "nbformat": 4,
 "nbformat_minor": 5
}
