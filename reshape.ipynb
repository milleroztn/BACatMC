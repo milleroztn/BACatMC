{
 "cells": [
  {
   "cell_type": "markdown",
   "id": "ef9f403b",
   "metadata": {},
   "source": [
    "[back to main](https://milleroztn.github.io/BACatMC/)\n",
    "\n",
    "-   <a href=\"#introduction\" id=\"toc-introduction\">Introduction</a>\n",
    "-   <a href=\"#import-modules\" id=\"toc-import-modules\">Import Modules</a>\n",
    "-   <a href=\"#rosetta-stone\" id=\"toc-rosetta-stone\">\"Rosetta Stone\" matching document</a>\n",
    "-   <a href=\"#variables-measured-at-sub-borough-level\" id=\"toc-variables-measured-at-sub-borough-level\">Sub-borough Variables</a>\n",
    "-   <a href=\"#variables-measured-at-community-district-level\" id=\"toc-variables-measured-at-community-district-level\">Community District Variables</a>\n",
    "-   <a href=\"#other-gid-variables\" id=\"toc-other-gid-variables\">Other GID Variables</a>"
   ]
  },
  {
   "cell_type": "markdown",
   "id": "8e95d579",
   "metadata": {},
   "source": [
    "# Introduction \n",
    "This script is the first part of a two-stage data-cleaning process that consolidates raw data from multiple Excel files into a single panel dataset. The data contains housing data, demographic data, and covid data for geographic sub-regions of New York City.\n",
    "\n",
    "This script reformats each of the variables in the raw data from its various formats into conventional region-year format.\n",
    "\n",
    "The outputs of this script are:\n",
    "- [stone.csv](https://github.com/milleroztn/BACatMC/blob/main/data/stone.csv), which matches each community district with the appropriate sub-borough and provides Geography IDs for each community district and sub-burough region.\n",
    "- [SB_data.csv](https://github.com/milleroztn/BACatMC/blob/main/data/SB_data.csv), which contains all variables that are organized by sub-borough region and year.\n",
    "- [CD_data.csv](https://github.com/milleroztn/BACatMC/blob/main/data/CD_data.csv), which contains all variables that are organized by community district region and year.\n",
    "- [gid_data.csv](https://github.com/milleroztn/BACatMC/blob/main/data/gid_data.csv), which contains all variables that are organized by Geography ID, which are either by sub-borough or by community district.\n",
    "\n",
    "\n",
    "## Import Modules"
   ]
  },
  {
   "cell_type": "code",
   "execution_count": 1,
   "id": "859640e3",
   "metadata": {},
   "outputs": [],
   "source": [
    "import numpy as np\n",
    "import pandas as pd\n",
    "import matplotlib.pyplot as plt\n",
    "import seaborn as sns\n",
    "from pandas import Series, DataFrame\n",
    "from numpy import nan as NA"
   ]
  },
  {
   "cell_type": "markdown",
   "id": "b26ac5b1",
   "metadata": {},
   "source": [
    "This script does not use all of these modules, but these are the modules I routinely import at the start of all of my data scripts.\n",
    "\n",
    "## \"Rosetta Stone\"\n",
    "I noticed that the sheet for the 'Crowding' variable had measurements for each sub-borough and for each community district, as well as the Geography ID associated with each region. Additionally, the actual values are the same for every community district that is associated with the same sub-borough (perhaps all measurements are at the sub-borough level, even if listed as community district). I use this information to a) match each region with the appropriate ID, and b) match each sub-borough with the corresponding community districts.\n"
   ]
  },
  {
   "cell_type": "code",
   "execution_count": 2,
   "id": "ab8d18ef",
   "metadata": {},
   "outputs": [],
   "source": [
    "raw = pd.read_excel('rawdata/NYC-housing-data.xlsx', sheet_name=8)\n",
    "\n",
    "stone = raw.loc[raw.GeoTypeName=='Neighborhood (Sub-borough/PUMA)', :]\n",
    "stone = stone.iloc[:,:8]\n",
    "stone = stone.merge(raw.iloc[:,[1,2,3,4,6,7]], on=[\n",
    "    'Number','Percent of Households'], how='left')\n",
    "stone.loc[:,'Sub-Borough Area'] = stone['Geography_x'].str.slice(start=16)\n",
    "stone.rename(columns={'Geography ID_x':'sb', 'Geography ID_y':'gid'}, inplace=True)\n",
    "stone.to_csv('data/stone.csv', index=False)"
   ]
  },
  {
   "cell_type": "markdown",
   "id": "aab0244a",
   "metadata": {},
   "source": [
    "The sheet numbers and column locations are taken from observing the organization of the Excel spreadsheets. This script will only work on the unchanged/unsorted original raw data.\n",
    "\n",
    "## Variables Measured at Sub-borough Level"
   ]
  },
  {
   "cell_type": "markdown",
   "id": "73fefcf4",
   "metadata": {},
   "source": [
    "### Import and reshape first sub-borough sheet/variable"
   ]
  },
  {
   "cell_type": "code",
   "execution_count": 3,
   "id": "a49321bd",
   "metadata": {},
   "outputs": [],
   "source": [
    "raw = pd.read_excel('rawdata/NYC-housing-data.xlsx', sheet_name=4)\n",
    "sb_data = raw.melt(raw.columns[2], raw.columns[3:18], 'year', raw.short_name[0])"
   ]
  },
  {
   "cell_type": "markdown",
   "id": "a194cb83",
   "metadata": {},
   "source": [
    "Each sheet in the housing data and the demographic data files represents a single variable. Individual observations are identified by 'Sub-Borough Area' (third column), and each year of data is unpivoted into a new 'year variable'. The result is one column identifying sub-borough, one identifying year, and one for the actual variable values (the short name is used as the variable name).\n",
    "\n",
    "### Repeat process for every other Sub-borough sheet and join to existing data"
   ]
  },
  {
   "cell_type": "code",
   "execution_count": 4,
   "id": "8cc12a8e",
   "metadata": {
    "tags": []
   },
   "outputs": [],
   "source": [
    "%%capture --no-display  \n",
    "# to hide merge warning\n",
    "\n",
    "sb = list(range(5,8))+list(range(9,13))\n",
    "for i in sb:\n",
    "    raw = pd.read_excel('rawdata/NYC-housing-data.xlsx', sheet_name=i)\n",
    "    sheet = raw.melt(raw.columns[2], raw.columns[3:18], 'year', raw.short_name[0]).dropna()\n",
    "    sb_data = sb_data.merge(sheet, how='outer')\n",
    "\n",
    "raw = pd.read_excel('rawdata/NYC-housing-data.xlsx', sheet_name=13)\n",
    "sheet = raw.iloc[:,7:11].melt(\n",
    "    raw.columns[9], raw.columns[10], 'year', raw.short_name[0]).dropna()\n",
    "sb_data = sb_data.merge(sheet, how='outer')"
   ]
  },
  {
   "cell_type": "markdown",
   "id": "bd80f336",
   "metadata": {},
   "source": [
    "Variable '% public housing' has some observations by sub-borough and others by community district. Here I isolate the sub-borough ones to add to the growing sb_data dataframe."
   ]
  },
  {
   "cell_type": "code",
   "execution_count": 5,
   "id": "5181ff81",
   "metadata": {},
   "outputs": [],
   "source": [
    "for i in range(2):\n",
    "    raw = pd.read_excel('rawdata/NYC-demographic-other-data.xlsx', sheet_name=i)\n",
    "    sheet = raw.melt(raw.columns[1], raw.columns[2:16], 'year', raw.long_name[0]).dropna()\n",
    "    sb_data = sb_data.merge(sheet, how='outer')"
   ]
  },
  {
   "cell_type": "markdown",
   "id": "8c267b91",
   "metadata": {},
   "source": [
    "The first two demographic sheets don't have short names for some reason. I use the long name instead."
   ]
  },
  {
   "cell_type": "code",
   "execution_count": 6,
   "id": "7ef035f5",
   "metadata": {},
   "outputs": [],
   "source": [
    "for i in range(7,11):\n",
    "    raw = pd.read_excel('rawdata/NYC-demographic-other-data.xlsx', sheet_name=i)\n",
    "    sheet = raw.melt(raw.columns[2], raw.columns[3:18], 'year', raw.short_name[0]).dropna()\n",
    "    sb_data = sb_data.merge(sheet, how='outer')   "
   ]
  },
  {
   "cell_type": "markdown",
   "id": "e1284096",
   "metadata": {
    "tags": []
   },
   "source": [
    "### Add IDs from \"Rosetta Stone\""
   ]
  },
  {
   "cell_type": "code",
   "execution_count": 7,
   "id": "a42ae491",
   "metadata": {},
   "outputs": [
    {
     "data": {
      "text/plain": [
       "array(['Rego Park/Forest Hills', 'Ozone Park/Woodhaven',\n",
       "       'South Ozone Park/Howard Beach', 'Queens Village', 'Mid-Island',\n",
       "       'Morrisania/Belmont', 'East New York/Starrett City',\n",
       "       'North Crown Heights/Prospect Heights'], dtype=object)"
      ]
     },
     "execution_count": 7,
     "metadata": {},
     "output_type": "execute_result"
    }
   ],
   "source": [
    "sbids = stone.loc[:,['sb','Sub-Borough Area']].drop_duplicates()\n",
    "sb_data = sb_data.merge(sbids, how='left')\n",
    "\n",
    "sb_data.loc[sb_data.sb.isna(),'Sub-Borough Area'].unique()"
   ]
  },
  {
   "cell_type": "markdown",
   "id": "124e46d5",
   "metadata": {},
   "source": [
    "Generate a list of sub-boroughs that are missing IDs."
   ]
  },
  {
   "cell_type": "code",
   "execution_count": 8,
   "id": "cb806731",
   "metadata": {},
   "outputs": [],
   "source": [
    "sb_data.loc[sb_data['Sub-Borough Area']=='Rego Park/Forest Hills', 'sb'] = 44\n",
    "sb_data.loc[sb_data['Sub-Borough Area']=='Ozone Park/Woodhaven', 'sb'] = 47\n",
    "sb_data.loc[sb_data['Sub-Borough Area']=='South Ozone Park/Howard Beach', 'sb'] = 48\n",
    "sb_data.loc[sb_data['Sub-Borough Area']=='Queens Village', 'sb'] = 51\n",
    "sb_data.loc[sb_data['Sub-Borough Area']=='Mid-Island', 'sb'] = 54\n",
    "sb_data.loc[sb_data['Sub-Borough Area']=='Morrisania/Belmont', 'sb'] = 2\n",
    "sb_data.loc[sb_data['Sub-Borough Area']=='East New York/Starrett City', 'sb'] = 15\n",
    "sb_data.loc[sb_data['Sub-Borough Area']=='North Crown Heights/Prospect Heights', 'sb'] = 18"
   ]
  },
  {
   "cell_type": "markdown",
   "id": "820c4701",
   "metadata": {},
   "source": [
    "Manual fix for all the missing IDs.\n",
    "\n",
    "### Export"
   ]
  },
  {
   "cell_type": "code",
   "execution_count": 9,
   "id": "9bd9ae09",
   "metadata": {},
   "outputs": [],
   "source": [
    "sb_data.to_csv('data/sb_data.csv', index=False)"
   ]
  },
  {
   "cell_type": "markdown",
   "id": "da45dd54",
   "metadata": {},
   "source": [
    "The 'sb_data' data frame has 880 rows (55 sub-boroughs by 16 years) and 18 variables.\n",
    "\n",
    "## Variables Measured at Community District Level\n",
    "\n",
    "### Import and reshape first community district sheet/variable"
   ]
  },
  {
   "cell_type": "code",
   "execution_count": 10,
   "id": "7a74e09f",
   "metadata": {},
   "outputs": [],
   "source": [
    "raw = pd.read_excel('rawdata/NYC-housing-data.xlsx', sheet_name=0)\n",
    "cd_data = raw.melt(raw.columns[2], raw.columns[3:22], 'year', raw.short_name[0]).dropna()"
   ]
  },
  {
   "cell_type": "markdown",
   "id": "0aa1b893",
   "metadata": {},
   "source": [
    "### Repeat process for every other community district sheet and join to existing data"
   ]
  },
  {
   "cell_type": "code",
   "execution_count": 11,
   "id": "5ddc9e8a",
   "metadata": {},
   "outputs": [],
   "source": [
    "%%capture --no-display  \n",
    "# to hide merge warning\n",
    "\n",
    "for i in range(1,4):\n",
    "    raw = pd.read_excel('rawdata/NYC-housing-data.xlsx', sheet_name=i)\n",
    "    sheet = raw.melt(raw.columns[2], raw.columns[3:22], 'year', raw.short_name[0]).dropna()\n",
    "    cd_data = cd_data.merge(sheet, how='outer')\n",
    "\n",
    "raw = pd.read_excel('rawdata/NYC-housing-data.xlsx', sheet_name=13)\n",
    "sheet = raw.iloc[:,:4].melt(\n",
    "    raw.columns[2], raw.columns[3], 'year', raw.short_name[0]).dropna()\n",
    "cd_data = cd_data.merge(sheet, how='outer')"
   ]
  },
  {
   "cell_type": "markdown",
   "id": "0c35e00f",
   "metadata": {},
   "source": [
    "Here I isolate the observations of '% public housing' that organized by community district."
   ]
  },
  {
   "cell_type": "code",
   "execution_count": 12,
   "id": "2ec0b91c",
   "metadata": {},
   "outputs": [],
   "source": [
    "%%capture --no-display  \n",
    "# to hide merge warning\n",
    "\n",
    "raw = pd.read_excel('rawdata/NYC-demographic-other-data.xlsx', sheet_name=2)\n",
    "sheet = raw.melt(raw.columns[1], raw.columns[2:16], 'year', raw.long_name[0]).dropna()\n",
    "cd_data = cd_data.merge(sheet, how='outer')"
   ]
  },
  {
   "cell_type": "markdown",
   "id": "459d241d",
   "metadata": {},
   "source": [
    "Again the first demographic variable doesn't have short name; long name used instead.\n",
    "(Note: BK 08 - Crown Heights/Prospect Heights was in 'serious crime' twice. I removed the duplicate row out of the Excel file before starting this process.)"
   ]
  },
  {
   "cell_type": "code",
   "execution_count": 13,
   "id": "d0558083",
   "metadata": {},
   "outputs": [],
   "source": [
    "for i in range(3,7):\n",
    "    raw = pd.read_excel('rawdata/NYC-demographic-other-data.xlsx', sheet_name=i)\n",
    "    sheet = raw.melt(raw.columns[2], raw.columns[3:9], 'year', raw.short_name[0]).dropna()\n",
    "    cd_data = cd_data.merge(sheet, how='outer')"
   ]
  },
  {
   "cell_type": "markdown",
   "id": "848fe3d7",
   "metadata": {},
   "source": [
    "### Repeat one-time-measured data for all years"
   ]
  },
  {
   "cell_type": "code",
   "execution_count": 14,
   "id": "bba306ed",
   "metadata": {},
   "outputs": [],
   "source": [
    "cd_data['prox_subway_pct'] = cd_data.groupby('Community District')['prox_subway_pct'].transform(\n",
    "    lambda g: g.fillna(g.mean()))\n",
    "\n",
    "cd_data['prox_park_pct'] = cd_data.groupby('Community District')['prox_park_pct'].transform(\n",
    "    lambda g: g.fillna(g.mean()))"
   ]
  },
  {
   "cell_type": "markdown",
   "id": "4324613c",
   "metadata": {},
   "source": [
    "### Generate IDs to match with those in \"Rosetta Stone\""
   ]
  },
  {
   "cell_type": "code",
   "execution_count": 15,
   "id": "4b1b3993",
   "metadata": {},
   "outputs": [],
   "source": [
    "cd_data[['bid','District Name']] = cd_data['Community District'].str.split(' - ', expand=True)\n",
    "cd_data[['br','id']] = cd_data['bid'].str.split(' ', expand=True)\n",
    "cdidkey = pd.DataFrame({\n",
    "    'br': [\"BX\", \"BK\", \"QN\", \"SI\", \"MN\"],\n",
    "    'b': [2,3,4,5,1]\n",
    "    })\n",
    "cd_data = cd_data.merge(cdidkey, how='outer')\n",
    "cd_data['gid'] = cd_data['b'].astype(str) + cd_data['id']\n",
    "cd_data['gid'] = cd_data.gid.astype(int)\n",
    "cd_data.drop(columns=['Community District', 'bid', 'b', 'id'], inplace=True)\n"
   ]
  },
  {
   "cell_type": "markdown",
   "id": "11ce63e2",
   "metadata": {},
   "source": [
    "Borough is IDed by two letters; I needed to change those to the appropriate gid numbers."
   ]
  },
  {
   "cell_type": "code",
   "execution_count": 16,
   "id": "9b8a45e0",
   "metadata": {},
   "outputs": [],
   "source": [
    "cd_data = cd_data.merge(stone.loc[:,['sb','gid']], how='left')"
   ]
  },
  {
   "cell_type": "markdown",
   "id": "e5a56f22",
   "metadata": {},
   "source": [
    "Each Community District gid is matched with the corresponding Sub-borough IDs using the Rosetta Stone file.\n",
    "\n",
    "### Export"
   ]
  },
  {
   "cell_type": "code",
   "execution_count": 17,
   "id": "112fd9e9",
   "metadata": {},
   "outputs": [],
   "source": [
    "cd_data.to_csv('data/cd_data.csv', index=False)"
   ]
  },
  {
   "cell_type": "markdown",
   "id": "12be5286",
   "metadata": {},
   "source": [
    "The 'cd_data' data frame has 1179 rows (59 districts for 20 years, and 58 districts for 19 years; only three variables are available in 2019 and there is no data for these for district 501- North Shore Staten Island) and 15 variables.\n",
    "\n",
    "## Other GID Variables\n",
    "\n",
    "These variables only have a single measurement (time-invariant), but each sheet has a different number of variables to extract."
   ]
  },
  {
   "cell_type": "code",
   "execution_count": 18,
   "id": "56527ffe",
   "metadata": {},
   "outputs": [],
   "source": [
    "raw = pd.read_excel('rawdata/NYC-housing-data.xlsx', sheet_name=8)\n",
    "gid_data = raw.loc[raw.GeoTypeName == 'Neighborhood (Sub-borough/PUMA)'].iloc[:,[4,6,7]]\n",
    "gid_data.rename(\n",
    "    columns = {'Number':'crowding_number', 'Percent of Households':'crowding_percent'}, inplace=True)"
   ]
  },
  {
   "cell_type": "markdown",
   "id": "4a47aa96",
   "metadata": {},
   "source": [
    "The first sheet is 'crowding'; the same as used to create the Rosetta Stone file."
   ]
  },
  {
   "cell_type": "code",
   "execution_count": 19,
   "id": "7b179b64",
   "metadata": {},
   "outputs": [],
   "source": [
    "raw = pd.read_excel('rawdata/NYC-demographic-other-data.xlsx', sheet_name=13)\n",
    "sheet = raw.iloc[6:,[4,6]]\n",
    "sheet.columns = pd.concat([\n",
    "    Series(sheet.columns[0]), sheet.columns[[1]].to_series().apply(\n",
    "        lambda col : raw['Indicator Name'][0]+'_'+col)], ignore_index=True)\n",
    "gid_data = gid_data.merge(sheet, how='outer')"
   ]
  },
  {
   "cell_type": "markdown",
   "id": "93f71d43",
   "metadata": {},
   "source": [
    "This sheet has a single variable, but I also need to remove city- and borough-level observations."
   ]
  },
  {
   "cell_type": "code",
   "execution_count": 20,
   "id": "78fb0e37",
   "metadata": {},
   "outputs": [],
   "source": [
    "for i in [12,14]:\n",
    "    raw = pd.read_excel('rawdata/NYC-demographic-other-data.xlsx', sheet_name=i)\n",
    "    sheet = raw.iloc[:,[4,6]]\n",
    "    sheet.columns = pd.concat([\n",
    "        Series(sheet.columns[0]), sheet.columns[[1]].to_series().apply(\n",
    "            lambda col : raw['Indicator Name'][0]+'_'+col)], ignore_index=True)\n",
    "    gid_data = gid_data.merge(sheet, how='outer')"
   ]
  },
  {
   "cell_type": "markdown",
   "id": "03884b6c",
   "metadata": {},
   "source": [
    "These sheets each have a single variable; no removals needed"
   ]
  },
  {
   "cell_type": "code",
   "execution_count": 21,
   "id": "0784926e",
   "metadata": {},
   "outputs": [],
   "source": [
    "for i in [11,15]:\n",
    "    raw = pd.read_excel('rawdata/NYC-demographic-other-data.xlsx', sheet_name=i)\n",
    "    sheet = raw.loc[raw.GeoTypeName == 'Neighborhood (Sub-borough/PUMA)'].iloc[:,[4,6,7]]\n",
    "    sheet.columns = pd.concat([\n",
    "        Series(sheet.columns[0]), sheet.columns[[1,2]].to_series().apply(\n",
    "            lambda col : raw['Indicator Name'][0]+'_'+col)], ignore_index=True)\n",
    "    gid_data = gid_data.merge(sheet, how='outer')"
   ]
  },
  {
   "cell_type": "markdown",
   "id": "6ada171e",
   "metadata": {},
   "source": [
    "These sheets each have two variables, only measured at sub-borough level."
   ]
  },
  {
   "cell_type": "code",
   "execution_count": 22,
   "id": "10f27553",
   "metadata": {},
   "outputs": [],
   "source": [
    "for i in [16,20,21,22]:\n",
    "    raw = pd.read_excel('rawdata/NYC-demographic-other-data.xlsx', sheet_name=i)\n",
    "    sheet = raw.iloc[:,[4,6,7]]\n",
    "    sheet.columns = pd.concat([\n",
    "        Series(sheet.columns[0]), sheet.columns[[1,2]].to_series().apply(\n",
    "            lambda col : raw['Indicator Name'][0]+'_'+col)], ignore_index=True)\n",
    "    gid_data = gid_data.merge(sheet, how='outer')"
   ]
  },
  {
   "cell_type": "markdown",
   "id": "0a57a81b",
   "metadata": {},
   "source": [
    "More sheets with only two variables."
   ]
  },
  {
   "cell_type": "code",
   "execution_count": 23,
   "id": "e49c2c64",
   "metadata": {},
   "outputs": [],
   "source": [
    "raw = pd.read_excel('rawdata/NYC-demographic-other-data.xlsx', sheet_name=23)\n",
    "sheet = raw.iloc[:,[4,6,7,8]]\n",
    "sheet.columns = pd.concat([\n",
    "    Series(sheet.columns[0]), sheet.columns[[1,2,3]].to_series().apply(\n",
    "        lambda col : raw['Indicator Name'][0]+'_'+col)], ignore_index=True)\n",
    "gid_data = gid_data.merge(sheet, how='outer')"
   ]
  },
  {
   "cell_type": "markdown",
   "id": "ff6e2e05",
   "metadata": {},
   "source": [
    "These sheets each have three variables."
   ]
  },
  {
   "cell_type": "code",
   "execution_count": 24,
   "id": "24572920",
   "metadata": {},
   "outputs": [],
   "source": [
    "raw = pd.read_excel('rawdata/NYC-demographic-other-data.xlsx', sheet_name=18)\n",
    "sheet = raw.iloc[6:,[4,6,7,8,9]]\n",
    "sheet.columns = pd.concat([\n",
    "    Series(sheet.columns[0]), sheet.columns[[1,2,3,4]].to_series().apply(\n",
    "        lambda col : raw['Indicator Name'][0]+'_'+col)], ignore_index=True)\n",
    "gid_data = gid_data.merge(sheet, how='outer')"
   ]
  },
  {
   "cell_type": "markdown",
   "id": "b826230f",
   "metadata": {},
   "source": [
    "Four variables; also need to remove city- and borough-level observations."
   ]
  },
  {
   "cell_type": "code",
   "execution_count": 25,
   "id": "504d6180",
   "metadata": {},
   "outputs": [],
   "source": [
    "for i in [17,19]:\n",
    "    raw = pd.read_excel('rawdata/NYC-demographic-other-data.xlsx', sheet_name=i)\n",
    "    sheet = raw.iloc[:,[4,6,7,8,9,10,11]]\n",
    "    sheet.columns = pd.concat([\n",
    "        Series(sheet.columns[0]), sheet.columns[[1,2,3,4,5,6]].to_series().apply(\n",
    "            lambda col : raw['Indicator Name'][0]+'_'+col)], ignore_index=True)\n",
    "    gid_data = gid_data.merge(sheet, how='outer')"
   ]
  },
  {
   "cell_type": "markdown",
   "id": "b5f67082",
   "metadata": {},
   "source": [
    "Last two sheets have 6 variables each.\n",
    "## Rename gid"
   ]
  },
  {
   "cell_type": "code",
   "execution_count": 26,
   "id": "1c17b85e",
   "metadata": {},
   "outputs": [],
   "source": [
    "gid_data.rename(columns={'Geography ID':'gid'}, inplace=True)"
   ]
  },
  {
   "cell_type": "markdown",
   "id": "385eba33",
   "metadata": {},
   "source": [
    "## Export"
   ]
  },
  {
   "cell_type": "code",
   "execution_count": 27,
   "id": "c6f89c91",
   "metadata": {},
   "outputs": [],
   "source": [
    "gid_data.to_csv('data/gid_data.csv', index=False)"
   ]
  },
  {
   "cell_type": "markdown",
   "id": "f273e22b",
   "metadata": {},
   "source": [
    "The 'gid_data' data frame has 114 rows (55 sub-buroughs and 59 community districts) and 37 variables."
   ]
  }
 ],
 "metadata": {
  "kernelspec": {
   "display_name": "Python 3 (Spyder)",
   "language": "python3",
   "name": "python3"
  },
  "language_info": {
   "codemirror_mode": {
    "name": "ipython",
    "version": 3
   },
   "file_extension": ".py",
   "mimetype": "text/x-python",
   "name": "python",
   "nbconvert_exporter": "python",
   "pygments_lexer": "ipython3",
   "version": "3.10.6"
  }
 },
 "nbformat": 4,
 "nbformat_minor": 5
}
