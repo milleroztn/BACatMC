{
 "cells": [
  {
   "cell_type": "markdown",
   "id": "00663ae4",
   "metadata": {},
   "source": [
    "[back to main](https://milleroztn.github.io/BACatMC/)\n",
    "\n",
    "-   <a href=\"#introduction\" id=\"toc-introduction\">Introduction</a>\n",
    "-   <a href=\"#import-modules\" id=\"toc-import-modules\">Import Modules</a>\n",
    "-   <a href=\"#import-reformatted-data-files\" id=\"toc-import-reformatted-data-files\">Import Reformatted Data Files</a>\n",
    "-   <a href=\"#prepare-community-district-data\" id=\"toc-prepare-community-district-data\">Prepare Community District Data</a>\n",
    "-   <a href=\"#merge-with-sub-borough-data\" id=\"toc-merge-with-sub-borough-data\">Merge With Sub-borough Data</a>\n",
    "-   <a href=\"#export\" id=\"toc-export\">Export</a>"
   ]
  },
  {
   "cell_type": "markdown",
   "id": "b3747801",
   "metadata": {},
   "source": [
    "# Introduction\n",
    "This script is the second part of a two-stage data-cleaning process that consolidates raw data from multiple Excel files into a single panel dataset. The data contains housing data, demographic data, and covid data for geographic sub-regions of New York City.\n",
    "\n",
    "This script combines data that has already been reshaped by the script [reshape.py](https://milleroztn.github.io/BACatMC/reshape). Community districts must be combined/aggregated into the corresponding sub-borough.\n",
    "\n",
    "The output of this script is a single time-series data frame organized by sub-borough, and exported as [bac.csv](https://github.com/milleroztn/BACatMC/blob/main/data/bac.csv)."
   ]
  },
  {
   "cell_type": "markdown",
   "id": "80efce40",
   "metadata": {},
   "source": [
    "# Import Modules"
   ]
  },
  {
   "cell_type": "code",
   "execution_count": 1,
   "id": "38aef233",
   "metadata": {},
   "outputs": [],
   "source": [
    "import numpy as np\n",
    "import pandas as pd\n",
    "import matplotlib.pyplot as plt\n",
    "import seaborn as sns\n",
    "from pandas import Series, DataFrame\n",
    "from numpy import nan as NA"
   ]
  },
  {
   "cell_type": "markdown",
   "id": "9c1c5399",
   "metadata": {},
   "source": [
    "# Import Reformatted Data Files"
   ]
  },
  {
   "cell_type": "code",
   "execution_count": 2,
   "id": "52fef2c2",
   "metadata": {},
   "outputs": [],
   "source": [
    "covid = pd.read_excel('rawdata/NYC-COVID-data.xlsx').iloc[:,:10]\n",
    "covmatch = pd.read_excel('rawdata/covidmatch.xlsx').iloc[:,:2]\n",
    "cd_data = pd.read_csv('data/cd_data.csv')\n",
    "sb_data = pd.read_csv('data/sb_data.csv')\n",
    "gid_data = pd.read_csv('data/gid_data.csv')"
   ]
  },
  {
   "cell_type": "markdown",
   "id": "16d33df9",
   "metadata": {},
   "source": [
    "'covmatch' is a matching document created manually to match neighborhood name to sub-borough ID.\n",
    "# Prepare Community District Data\n",
    "## Add COVID and GID data to Community District Data"
   ]
  },
  {
   "cell_type": "code",
   "execution_count": 3,
   "id": "44f2e343",
   "metadata": {},
   "outputs": [],
   "source": [
    "covid = covid.merge(covmatch,on=\"NEIGHBORHOOD_NAME\", how='left').iloc[:,3:]\n",
    "cd_data = cd_data.merge(gid_data, how='left', on='gid').dropna(axis=1, how='all')\n",
    "cd_data = cd_data.merge(covid, how='left', on='gid').dropna(axis=1, how='all')"
   ]
  },
  {
   "cell_type": "markdown",
   "id": "8c4a3596",
   "metadata": {},
   "source": [
    "I first have to add gids to the covid data from the covmatch file. Then I combine COVID data and other GID data to the appropriate community district. These time-invariant variables are all repeated for each year.\n",
    "\n",
    "Some sub-boroughs contain multiple community districts. In order to combine community district variables that are measured as averages or percents into sub-borough level, I create weights based on estimated population. Variables measured as counts will just need to be summed across combined districts.\n",
    "## Set Weights"
   ]
  },
  {
   "cell_type": "code",
   "execution_count": 4,
   "id": "bd0c5da2",
   "metadata": {},
   "outputs": [],
   "source": [
    "cd_pops = cd_data.loc[cd_data.year == 2000,[\n",
    "    'gid', 'Bicycle Injury Hospitalizations_Age-Adjusted Rate (per 100,000 residents)',\n",
    "    'Bicycle Injury Hospitalizations_Number',\n",
    "    'Pedestrian Injury Hospitalizations_Age-Adjusted Rate (per 100,000 residents)',\n",
    "    'Pedestrian Injury Hospitalizations_Number',\n",
    "    'Non-fatal Assault Hospitalizations_Age-Adjusted Rate (per 100,000 residents)',\n",
    "    'Non-fatal Assault Hospitalizations_Number']].loc[\n",
    "        cd_data.gid.isin([104,105,201,202,203,206]),:]"
   ]
  },
  {
   "cell_type": "markdown",
   "id": "718dbbd8",
   "metadata": {},
   "source": [
    "Relative population estimates are generated from each of the available per-capita variables."
   ]
  },
  {
   "cell_type": "code",
   "execution_count": 5,
   "id": "4f520009",
   "metadata": {},
   "outputs": [],
   "source": [
    "cd_pops['pop1'] = 100000*cd_pops['Bicycle Injury Hospitalizations_Number']/cd_pops[\n",
    "    'Bicycle Injury Hospitalizations_Age-Adjusted Rate (per 100,000 residents)']\n",
    "cd_pops['pop2'] = 100000*cd_pops['Pedestrian Injury Hospitalizations_Number']/cd_pops[\n",
    "    'Pedestrian Injury Hospitalizations_Age-Adjusted Rate (per 100,000 residents)']\n",
    "cd_pops['pop3'] = 100000*cd_pops['Non-fatal Assault Hospitalizations_Number']/cd_pops[\n",
    "    'Non-fatal Assault Hospitalizations_Age-Adjusted Rate (per 100,000 residents)']\n",
    "cd_pops['population'] = cd_pops.loc[:,['pop1','pop2','pop3']].mean(axis=1)\n",
    "\n",
    "cd_pops = cd_pops.loc[:,['gid','population']]"
   ]
  },
  {
   "cell_type": "markdown",
   "id": "56e2aff4",
   "metadata": {},
   "source": [
    "The result is three different population estimates (which are all fairly similar). The final estimate of population within each district is the avarege of these three estimates."
   ]
  },
  {
   "cell_type": "code",
   "execution_count": 6,
   "id": "a2c09e40",
   "metadata": {},
   "outputs": [],
   "source": [
    "cd_data = cd_data.merge(cd_pops, how='left', on='gid')\n",
    "cd_data['weight'] = np.where(cd_data['population'].isna(), 1, cd_data['population'])\n",
    "cd_data['weight'] = np.where(cd_data['POP_DENOMINATOR'].isna(), cd_data[\n",
    "    'weight'], cd_data['POP_DENOMINATOR'])"
   ]
  },
  {
   "cell_type": "markdown",
   "id": "9e3f87b9",
   "metadata": {},
   "source": [
    "Weights are set based on population estimate.\n",
    "## Combine Community Districts into Sub-boroughs"
   ]
  },
  {
   "cell_type": "code",
   "execution_count": 7,
   "id": "c011d3fd",
   "metadata": {},
   "outputs": [],
   "source": [
    "cdbysb = cd_data.loc[:,['sb','year']].drop_duplicates().sort_values(by=['sb','year'])"
   ]
  },
  {
   "cell_type": "markdown",
   "id": "4cc55eec",
   "metadata": {},
   "source": [
    "I start by creating a new data frame with the right shape. The data frame 'cdbysb' has one row for each sub-borough in each year that we have measurements."
   ]
  },
  {
   "cell_type": "code",
   "execution_count": 8,
   "id": "e244238a",
   "metadata": {},
   "outputs": [],
   "source": [
    "for v in cd_data.loc[:,~cd_data.columns.isin([\n",
    "        'year', 'volume_1f', 'volume_cn', 'District Name', 'br', 'gid', 'sb', \n",
    "        'population', 'weight', 'Pedestrian Injury Hospitalizations_Number', \n",
    "        'Non-fatal Assault Hospitalizations_Number',\n",
    "        'Chronic Obstructive Pulmonary Disease  Hospitalization_Number',\n",
    "        'Bicycle Injury Hospitalizations_Number',\n",
    "        'COVID_CASE_COUNT', 'COVID_DEATH_COUNT', 'TOTAL_COVID_TESTS', 'POP_DENOMINATOR'])]:\n",
    "    cdbysb = cdbysb.merge(cd_data.groupby(['sb','year']).apply(lambda g: np.average(\n",
    "    g[v], weights=g.weight)).rename(v).reset_index(), on=['sb','year'])"
   ]
  },
  {
   "cell_type": "markdown",
   "id": "1f7a2c17",
   "metadata": {},
   "source": [
    "I first combine the variables of cd_data that are averages or percents to the sub-borough level with a weighted average function of any districts that need to be combined."
   ]
  },
  {
   "cell_type": "code",
   "execution_count": 9,
   "id": "0d8dcc1a",
   "metadata": {},
   "outputs": [],
   "source": [
    "for v in ['volume_1f', 'volume_cn', 'COVID_CASE_COUNT', 'COVID_DEATH_COUNT', 'TOTAL_COVID_TESTS', \n",
    "          'POP_DENOMINATOR', 'Bicycle Injury Hospitalizations_Number',\n",
    "          'Pedestrian Injury Hospitalizations_Number', \n",
    "          'Non-fatal Assault Hospitalizations_Number', \n",
    "          'Chronic Obstructive Pulmonary Disease  Hospitalization_Number']:\n",
    "        cdbysb = cdbysb.merge(cd_data.groupby(['sb','year']).apply(lambda g: np.sum(\n",
    "    g[v])).rename(v).reset_index(), on=['sb','year'])\n",
    "cdbysb.rename(columns={'POP_DENOMINATOR':'pop_covid_region'}, inplace=True)"
   ]
  },
  {
   "cell_type": "markdown",
   "id": "8db2577a",
   "metadata": {},
   "source": [
    "All the count variables are summed when multiple districts are combined into a single sub-borough.\n",
    "# Merge With Sub-borough Data"
   ]
  },
  {
   "cell_type": "code",
   "execution_count": 10,
   "id": "1a2d9f6f",
   "metadata": {},
   "outputs": [],
   "source": [
    "for i in sb_data['sb'].drop_duplicates():\n",
    "    missingyears = pd.DataFrame({'sb':[i,i,i,i],'year':[2001,2002,2003,2019]})\n",
    "    sb_data = pd.concat([sb_data, missingyears], ignore_index=True)    "
   ]
  },
  {
   "cell_type": "markdown",
   "id": "251aabaf",
   "metadata": {},
   "source": [
    "Original sub-borough variables don't have any data for years 2001, 2002, 2003, or 2019. I add empty rows that the other data frames can attach to."
   ]
  },
  {
   "cell_type": "code",
   "execution_count": 11,
   "id": "6df8ea5d",
   "metadata": {},
   "outputs": [],
   "source": [
    "bac = sb_data.merge(gid_data, how='left', left_on='sb', right_on='gid').dropna(axis=1, how='all')\n",
    "bac = bac.merge(covid, how='left', left_on='sb', right_on='gid').dropna(axis=1, how='all')\n",
    "bac = bac.merge(cdbysb, on=['sb','year'], how='outer')\n",
    "\n",
    "bac['rent_pct_nycha'] = np.where(bac['rent_pct_nycha_x'].isna(), bac[\n",
    "    'rent_pct_nycha_y'], bac['rent_pct_nycha_x'])\n",
    "bac.drop(['rent_pct_nycha_x','rent_pct_nycha_y'], axis=1, inplace=True)"
   ]
  },
  {
   "cell_type": "markdown",
   "id": "2a726914",
   "metadata": {},
   "source": [
    "I also combine rent_pct_nycha from 2017, 2018 into a single variable\n",
    "# Export"
   ]
  },
  {
   "cell_type": "code",
   "execution_count": 12,
   "id": "3af26000",
   "metadata": {},
   "outputs": [],
   "source": [
    "bac.to_csv('data/bac.csv', index=False)"
   ]
  },
  {
   "cell_type": "markdown",
   "id": "081495b2",
   "metadata": {},
   "source": [
    "The final 'bac' data frame has 1100 rows (55 sub-boroughs and 20 years) and 71 variables."
   ]
  }
 ],
 "metadata": {
  "kernelspec": {
   "display_name": "Python 3 (Spyder)",
   "language": "python3",
   "name": "python3"
  },
  "language_info": {
   "codemirror_mode": {
    "name": "ipython",
    "version": 3
   },
   "file_extension": ".py",
   "mimetype": "text/x-python",
   "name": "python",
   "nbconvert_exporter": "python",
   "pygments_lexer": "ipython3",
   "version": "3.10.6"
  }
 },
 "nbformat": 4,
 "nbformat_minor": 5
}
